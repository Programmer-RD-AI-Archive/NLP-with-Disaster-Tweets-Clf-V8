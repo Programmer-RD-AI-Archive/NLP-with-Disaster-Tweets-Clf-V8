{
 "cells": [
  {
   "cell_type": "code",
   "execution_count": 1,
   "id": "3a2fd952-c2b4-483a-a4fa-274fb0ac661e",
   "metadata": {},
   "outputs": [],
   "source": [
    "import nltk\n",
    "from nltk.stem.porter import *\n",
    "from torch.nn import *\n",
    "from torch.optim import *\n",
    "import numpy as np\n",
    "import pandas as pd\n",
    "import torch,torchvision\n",
    "import random\n",
    "from tqdm import *\n",
    "from torch.utils.data import Dataset,DataLoader\n",
    "stemmer = PorterStemmer()"
   ]
  },
  {
   "cell_type": "code",
   "execution_count": 2,
   "id": "3a0698de-1392-4062-98e7-7bae0343e09b",
   "metadata": {},
   "outputs": [],
   "source": [
    "def tokenize(sentence):\n",
    "    return nltk.word_tokenize(sentence)"
   ]
  },
  {
   "cell_type": "code",
   "execution_count": 3,
   "id": "36a2341d-cab9-4426-a7d1-f32dcd486c84",
   "metadata": {},
   "outputs": [
    {
     "data": {
      "text/plain": [
       "['$', '100']"
      ]
     },
     "execution_count": 3,
     "metadata": {},
     "output_type": "execute_result"
    }
   ],
   "source": [
    "tokenize('$100')"
   ]
  },
  {
   "cell_type": "code",
   "execution_count": 4,
   "id": "167fbb5b-6a14-484c-92da-0c383b534c0a",
   "metadata": {},
   "outputs": [],
   "source": [
    "def stem(word):\n",
    "    return stemmer.stem(word.lower())"
   ]
  },
  {
   "cell_type": "code",
   "execution_count": 5,
   "id": "97345c9e-e089-4dae-ade7-9724e73a5b99",
   "metadata": {},
   "outputs": [
    {
     "data": {
      "text/plain": [
       "'organ'"
      ]
     },
     "execution_count": 5,
     "metadata": {},
     "output_type": "execute_result"
    }
   ],
   "source": [
    "stem('organic')"
   ]
  },
  {
   "cell_type": "code",
   "execution_count": 6,
   "id": "1cbeef6f-2909-453f-a544-45c0790118c3",
   "metadata": {},
   "outputs": [],
   "source": [
    "def bag_of_words(tokenized_words,all_words):\n",
    "    tokenized_words = [stem(w) for w in tokenized_words]\n",
    "    bag = np.zeros(len(all_words))\n",
    "    for idx,w in enumerate(all_words):\n",
    "        if w in tokenized_words:\n",
    "            bag[idx] = 1.0\n",
    "    return bag"
   ]
  },
  {
   "cell_type": "code",
   "execution_count": 7,
   "id": "83ea8694-7066-496e-9c2f-d447e9d0f6a2",
   "metadata": {},
   "outputs": [
    {
     "data": {
      "text/plain": [
       "array([0., 1.])"
      ]
     },
     "execution_count": 7,
     "metadata": {},
     "output_type": "execute_result"
    }
   ],
   "source": [
    "bag_of_words(['hi'],['how','hi'])"
   ]
  },
  {
   "cell_type": "code",
   "execution_count": 8,
   "id": "fb82d630-c3d9-4d8d-a0de-e39571f4bca9",
   "metadata": {},
   "outputs": [],
   "source": [
    "data = pd.read_csv('./data.csv')"
   ]
  },
  {
   "cell_type": "code",
   "execution_count": 9,
   "id": "4a18c901-5dfc-424b-9de8-c226cf844ec1",
   "metadata": {},
   "outputs": [],
   "source": [
    "X = data['text']\n",
    "y = data['target']"
   ]
  },
  {
   "cell_type": "code",
   "execution_count": 10,
   "id": "ba6e6a58-b90c-498a-9040-d2f6f54fd3c7",
   "metadata": {},
   "outputs": [],
   "source": [
    "all_words = []\n",
    "all_data = []\n",
    "tags = []"
   ]
  },
  {
   "cell_type": "code",
   "execution_count": 11,
   "id": "bf228f3f-acfe-4d7d-aa64-5d193a11e1fe",
   "metadata": {},
   "outputs": [
    {
     "name": "stderr",
     "output_type": "stream",
     "text": [
      "7613it [00:02, 3223.69it/s]\n"
     ]
    }
   ],
   "source": [
    "for X_batch,y_bacth in tqdm(zip(X,y)):\n",
    "    X_batch = tokenize(X_batch)\n",
    "    new_X = []\n",
    "    for Xb in X_batch:\n",
    "        new_X.append(stem(Xb))\n",
    "    all_words.extend(new_X)\n",
    "    all_data.append([new_X,y_bacth])\n",
    "    tags.append(y_bacth)"
   ]
  },
  {
   "cell_type": "code",
   "execution_count": 12,
   "id": "da44ef85-6cd6-4558-89df-eb204a11a13a",
   "metadata": {},
   "outputs": [],
   "source": [
    "np.random.shuffle(all_words)"
   ]
  },
  {
   "cell_type": "code",
   "execution_count": 13,
   "id": "3968cd95-7462-4b2f-aaa2-80771760a76a",
   "metadata": {},
   "outputs": [],
   "source": [
    "all_words = sorted(set(all_words))\n",
    "tags = sorted(set(tags))"
   ]
  },
  {
   "cell_type": "code",
   "execution_count": 14,
   "id": "334c5f6e-b38d-436f-b8de-8ad491cfb5e7",
   "metadata": {},
   "outputs": [],
   "source": [
    "np.random.shuffle(all_words)"
   ]
  },
  {
   "cell_type": "code",
   "execution_count": 15,
   "id": "97d47327-e453-4725-93e5-3eda6d6c1c70",
   "metadata": {},
   "outputs": [],
   "source": [
    "X = []\n",
    "y = []"
   ]
  },
  {
   "cell_type": "code",
   "execution_count": 16,
   "id": "2b5d5e31-a914-4827-84c0-eee26b773082",
   "metadata": {},
   "outputs": [
    {
     "name": "stderr",
     "output_type": "stream",
     "text": [
      "100%|██████████████████████████████████████| 7613/7613 [00:17<00:00, 436.49it/s]\n"
     ]
    }
   ],
   "source": [
    "for X_batch,y_batch in tqdm(all_data):\n",
    "    X.append(bag_of_words(X_batch,all_words))\n",
    "    y.append(tags.index(y_batch))"
   ]
  },
  {
   "cell_type": "code",
   "execution_count": 17,
   "id": "7326f8be-a3a8-4cdf-b539-d79df4ad4cb9",
   "metadata": {},
   "outputs": [],
   "source": [
    "from sklearn.model_selection import *"
   ]
  },
  {
   "cell_type": "code",
   "execution_count": 18,
   "id": "b95c17e8-f22b-4f05-827e-2ccff888bfd3",
   "metadata": {},
   "outputs": [],
   "source": [
    "X_train,X_test,y_train,y_test = train_test_split(X,y,test_size=0.25)"
   ]
  },
  {
   "cell_type": "code",
   "execution_count": 19,
   "id": "4ec60da2-09fb-4223-ba04-d89c392fe04a",
   "metadata": {},
   "outputs": [],
   "source": [
    "device = 'cuda'"
   ]
  },
  {
   "cell_type": "code",
   "execution_count": 20,
   "id": "7232f391-7674-4164-92fa-4d12544f6d05",
   "metadata": {},
   "outputs": [],
   "source": [
    "X_train = torch.from_numpy(np.array(X_train)).to(device).float()\n",
    "y_train = torch.from_numpy(np.array(y_train)).to(device).to(device).float()\n",
    "X_test = torch.from_numpy(np.array(X_test)).to(device).to(device).float()\n",
    "y_test = torch.from_numpy(np.array(y_test)).to(device).to(device).float()"
   ]
  },
  {
   "cell_type": "code",
   "execution_count": 21,
   "id": "9c1c8a4e-640c-47a2-a2c3-2554f8c6e88e",
   "metadata": {},
   "outputs": [
    {
     "data": {
      "text/plain": [
       "[0, 1]"
      ]
     },
     "execution_count": 21,
     "metadata": {},
     "output_type": "execute_result"
    }
   ],
   "source": [
    "tags"
   ]
  },
  {
   "cell_type": "code",
   "execution_count": 22,
   "id": "5ffec9df-8b84-4c75-8cf8-fdac192f72ae",
   "metadata": {},
   "outputs": [],
   "source": [
    "class Model(Module):\n",
    "    def __init__(self,hidden):\n",
    "        super().__init__()\n",
    "        self.iters = 12\n",
    "        self.activation = ReLU()\n",
    "        self.linear1 = Linear(len(all_words),hidden)\n",
    "        self.linear2 = Linear(hidden,hidden)\n",
    "        self.output = Linear(hidden,1)\n",
    "    \n",
    "    def forward(self,X):\n",
    "        preds = self.linear1(X)\n",
    "        for _ in range(self.iters):\n",
    "            preds = self.activation(self.linear2(preds))\n",
    "        preds = self.output(preds)\n",
    "        return preds"
   ]
  },
  {
   "cell_type": "code",
   "execution_count": 23,
   "id": "6d41bab9-68e5-4699-9429-c13489897d54",
   "metadata": {},
   "outputs": [],
   "source": [
    "model = Model(512).to(device)\n",
    "criterion = MSELoss()\n",
    "optimizer = Adam(model.parameters(),lr=0.001)\n",
    "epochs = 1000\n",
    "batch_size = 32"
   ]
  },
  {
   "cell_type": "code",
   "execution_count": 24,
   "id": "7b65904a-d731-4400-9749-f7dd291be6bc",
   "metadata": {},
   "outputs": [],
   "source": [
    "PROJECT_NAME = 'NLP-with-Disaster-Tweets-Clf-V8'"
   ]
  },
  {
   "cell_type": "code",
   "execution_count": 25,
   "id": "66c4b4d7-633e-48b4-af40-137ec227a539",
   "metadata": {},
   "outputs": [],
   "source": [
    "import wandb"
   ]
  },
  {
   "cell_type": "code",
   "execution_count": 26,
   "id": "86be687c-fafe-4ef4-9d91-57d2c0ca0717",
   "metadata": {},
   "outputs": [],
   "source": [
    "def get_loss(model,X,y,criterion):\n",
    "    return criterion(model(X).view(-1,1),y.view(-1,1)).item()"
   ]
  },
  {
   "cell_type": "code",
   "execution_count": 27,
   "id": "39b73f47-3d67-4858-b164-6e72e8f7aff1",
   "metadata": {},
   "outputs": [],
   "source": [
    "def get_accuracy(model,X,y):\n",
    "    correct = 0\n",
    "    total = 0\n",
    "    preds = model(X)\n",
    "    for pred,y_batch in zip(preds,y):\n",
    "        pred = int(torch.round(pred))\n",
    "        if pred == y_batch:\n",
    "            correct += 1\n",
    "        total += 1\n",
    "    acc = round(correct/total,3)*100\n",
    "    return acc"
   ]
  },
  {
   "cell_type": "code",
   "execution_count": null,
   "id": "3685093c-a49f-467b-b428-b29ef4ca1e11",
   "metadata": {},
   "outputs": [
    {
     "name": "stderr",
     "output_type": "stream",
     "text": [
      "\u001b[34m\u001b[1mwandb\u001b[0m: Currently logged in as: \u001b[33mranuga-d\u001b[0m (use `wandb login --relogin` to force relogin)\n"
     ]
    },
    {
     "data": {
      "text/html": [
       "\n",
       "                Tracking run with wandb version 0.12.1<br/>\n",
       "                Syncing run <strong style=\"color:#cdcd00\">baseline</strong> to <a href=\"https://wandb.ai\" target=\"_blank\">Weights & Biases</a> <a href=\"https://docs.wandb.com/integrations/jupyter.html\" target=\"_blank\">(Documentation)</a>.<br/>\n",
       "                Project page: <a href=\"https://wandb.ai/ranuga-d/NLP-with-Disaster-Tweets-Clf-V8\" target=\"_blank\">https://wandb.ai/ranuga-d/NLP-with-Disaster-Tweets-Clf-V8</a><br/>\n",
       "                Run page: <a href=\"https://wandb.ai/ranuga-d/NLP-with-Disaster-Tweets-Clf-V8/runs/3k3ey8yt\" target=\"_blank\">https://wandb.ai/ranuga-d/NLP-with-Disaster-Tweets-Clf-V8/runs/3k3ey8yt</a><br/>\n",
       "                Run data is saved locally in <code>/home/indika/Programming/Projects/Python/Artifical-Intelligence/PyTorch/NLP/NLP-with-Disaster-Tweets-Clf-V8/wandb/run-20210911_191945-3k3ey8yt</code><br/><br/>\n",
       "            "
      ],
      "text/plain": [
       "<IPython.core.display.HTML object>"
      ]
     },
     "metadata": {},
     "output_type": "display_data"
    },
    {
     "name": "stderr",
     "output_type": "stream",
     "text": [
      " 11%|████▏                                   | 106/1000 [02:31<21:09,  1.42s/it]"
     ]
    }
   ],
   "source": [
    "torch.cuda.empty_cache()\n",
    "wandb.init(project=PROJECT_NAME,name='baseline')\n",
    "for _ in tqdm(range(epochs)):\n",
    "    torch.cuda.empty_cache()\n",
    "    for idx in range(0,len(X_train),batch_size):\n",
    "        torch.cuda.empty_cache()\n",
    "        X_batch = X_train[idx:idx+batch_size]\n",
    "        y_batch = y_train[idx:idx+batch_size]\n",
    "        preds = model(X_batch)\n",
    "        loss = criterion(preds.view(-1,1),y_batch.view(-1,1))\n",
    "        optimizer.zero_grad()\n",
    "        loss.backward()\n",
    "        optimizer.step()\n",
    "    torch.cuda.empty_cache()\n",
    "    wandb.log({'Loss':(get_loss(model,X_train,y_train,criterion)+get_loss(model,X_batch,y_batch,criterion)/2)})\n",
    "    wandb.log({'Val Loss':get_loss(model,X_test,y_test,criterion)})\n",
    "    wandb.log({'Acc':(get_accuracy(model,X_train,y_train)+get_accuracy(model,X_batch,y_batch))/2})\n",
    "    wandb.log({'Val Acc':get_accuracy(model,X_test,y_test)})    \n",
    "wandb.finish()\n",
    "torch.cuda.empty_cache()"
   ]
  },
  {
   "cell_type": "code",
   "execution_count": null,
   "id": "d5983e89-c78b-4abe-8d55-42bd4abb8530",
   "metadata": {},
   "outputs": [],
   "source": []
  }
 ],
 "metadata": {
  "kernelspec": {
   "display_name": "Python 3.7.3 64-bit ('base': conda)",
   "language": "python",
   "name": "python373jvsc74a57bd0210f9608a45c0278a93c9e0b10db32a427986ab48cfc0d20c139811eb78c4bbc"
  },
  "language_info": {
   "codemirror_mode": {
    "name": "ipython",
    "version": 3
   },
   "file_extension": ".py",
   "mimetype": "text/x-python",
   "name": "python",
   "nbconvert_exporter": "python",
   "pygments_lexer": "ipython3",
   "version": "3.7.11"
  }
 },
 "nbformat": 4,
 "nbformat_minor": 5
}
